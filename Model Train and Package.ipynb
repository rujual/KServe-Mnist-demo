{
 "cells": [
  {
   "cell_type": "markdown",
   "metadata": {},
   "source": [
    "## Train an image classification model on the MNIST Handwritten Images dataset\n",
    "In this tutorial, you train a machine learning model on YData and then deploy it on Azure.\n",
    "\n",
    "This tutorial trains a simple logistic regression modelusing the [MNIST](https://azure.microsoft.com/services/open-datasets/catalog/mnist/) dataset and [scikit-learn](http://scikit-learn.org) with Azure Machine Learning.  MNIST is a popular dataset consisting of 70,000 grayscale images. Each image is a handwritten digit of 28x28 pixels, representing a number from 0 to 9. The goal is to create a multi-class classifier to identify the digit a given image represents. \n",
    "\n",
    "Learn how to:\n",
    "\n",
    "> * Set up your development environment\n",
    "> * Access and examine the data\n",
    "> * Train and pickle a simple logistic regression model using YData\n",
    "> * Review training results\n",
    "> * Set up your testing environment on ACI\n",
    "> * Retrieve the model from your workspace\n",
    "> * Test the model locally\n",
    "> * Deploy the model to ACI\n",
    "> * Test the deployed model"
   ]
  },
  {
   "cell_type": "markdown",
   "metadata": {},
   "source": [
    "## Set up your development environment\n",
    "\n",
    "All the setup for your development work can be accomplished in a Python notebook.  Setup includes:\n",
    "\n",
    "* Importing Python packages\n",
    "* Connecting to a workspace to enable communication between your local computer and remote resources\n",
    "* Creating a remote compute target to use for training\n",
    "\n",
    "### Import packages\n",
    "\n",
    "Import Python packages you need in this session. Also display the Azure Machine Learning SDK version."
   ]
  },
  {
   "cell_type": "code",
   "execution_count": 23,
   "metadata": {},
   "outputs": [
    {
     "name": "stdout",
     "output_type": "stream",
     "text": [
      "Requirement already satisfied: azureml-sdk in /opt/conda/lib/python3.7/site-packages (1.34.0)\n",
      "Requirement already satisfied: scikit-learn==0.22.1 in /opt/conda/lib/python3.7/site-packages (0.22.1)\n",
      "Requirement already satisfied: pandas in /opt/conda/lib/python3.7/site-packages (1.2.3)\n",
      "Requirement already satisfied: numpy in /opt/conda/lib/python3.7/site-packages (1.18.5)\n",
      "Requirement already satisfied: matplotlib in /opt/conda/lib/python3.7/site-packages (3.4.2)\n",
      "Requirement already satisfied: joblib>=0.11 in /opt/conda/lib/python3.7/site-packages (from scikit-learn==0.22.1) (1.0.1)\n",
      "Requirement already satisfied: scipy>=0.17.0 in /opt/conda/lib/python3.7/site-packages (from scikit-learn==0.22.1) (1.4.1)\n",
      "Requirement already satisfied: azureml-dataset-runtime[fuse]~=1.34.0 in /opt/conda/lib/python3.7/site-packages (from azureml-sdk) (1.34.0)\n",
      "Requirement already satisfied: azureml-core~=1.34.0 in /opt/conda/lib/python3.7/site-packages (from azureml-sdk) (1.34.0)\n",
      "Requirement already satisfied: azureml-train-core~=1.34.0 in /opt/conda/lib/python3.7/site-packages (from azureml-sdk) (1.34.0)\n",
      "Requirement already satisfied: azureml-pipeline~=1.34.0 in /opt/conda/lib/python3.7/site-packages (from azureml-sdk) (1.34.0)\n",
      "Requirement already satisfied: azureml-train-automl-client~=1.34.0 in /opt/conda/lib/python3.7/site-packages (from azureml-sdk) (1.34.0)\n",
      "Requirement already satisfied: python-dateutil<3.0.0,>=2.7.3 in /opt/conda/lib/python3.7/site-packages (from azureml-core~=1.34.0->azureml-sdk) (2.8.2)\n",
      "Requirement already satisfied: cryptography!=1.9,!=2.0.*,!=2.1.*,!=2.2.*,<4.0.0 in /opt/conda/lib/python3.7/site-packages (from azureml-core~=1.34.0->azureml-sdk) (3.4.7)\n",
      "Requirement already satisfied: urllib3<=1.26.6,>=1.23 in /opt/conda/lib/python3.7/site-packages (from azureml-core~=1.34.0->azureml-sdk) (1.25.11)\n",
      "Requirement already satisfied: ruamel.yaml<0.17.5,>=0.15.35 in /opt/conda/lib/python3.7/site-packages (from azureml-core~=1.34.0->azureml-sdk) (0.17.4)\n",
      "Requirement already satisfied: azure-mgmt-storage<16.0.0,>=1.5.0 in /opt/conda/lib/python3.7/site-packages (from azureml-core~=1.34.0->azureml-sdk) (11.2.0)\n",
      "Requirement already satisfied: ndg-httpsclient<=0.5.1 in /opt/conda/lib/python3.7/site-packages (from azureml-core~=1.34.0->azureml-sdk) (0.5.1)\n",
      "Requirement already satisfied: pathspec<1.0.0 in /opt/conda/lib/python3.7/site-packages (from azureml-core~=1.34.0->azureml-sdk) (0.8.1)\n",
      "Requirement already satisfied: pyopenssl<21.0.0 in /opt/conda/lib/python3.7/site-packages (from azureml-core~=1.34.0->azureml-sdk) (20.0.1)\n",
      "Requirement already satisfied: jmespath<1.0.0 in /opt/conda/lib/python3.7/site-packages (from azureml-core~=1.34.0->azureml-sdk) (0.10.0)\n",
      "Requirement already satisfied: jsonpickle<3.0.0 in /opt/conda/lib/python3.7/site-packages (from azureml-core~=1.34.0->azureml-sdk) (2.0.0)\n",
      "Requirement already satisfied: azure-mgmt-authorization<1.0.0,>=0.40.0 in /opt/conda/lib/python3.7/site-packages (from azureml-core~=1.34.0->azureml-sdk) (0.61.0)\n",
      "Requirement already satisfied: SecretStorage<4.0.0 in /opt/conda/lib/python3.7/site-packages (from azureml-core~=1.34.0->azureml-sdk) (3.3.1)\n",
      "Requirement already satisfied: azure-mgmt-containerregistry>=2.0.0 in /opt/conda/lib/python3.7/site-packages (from azureml-core~=1.34.0->azureml-sdk) (8.1.0)\n",
      "Requirement already satisfied: azure-common<2.0.0,>=1.1.12 in /opt/conda/lib/python3.7/site-packages (from azureml-core~=1.34.0->azureml-sdk) (1.1.25)\n",
      "Requirement already satisfied: msrest<1.0.0,>=0.5.1 in /opt/conda/lib/python3.7/site-packages (from azureml-core~=1.34.0->azureml-sdk) (0.6.21)\n",
      "Requirement already satisfied: pytz in /opt/conda/lib/python3.7/site-packages (from azureml-core~=1.34.0->azureml-sdk) (2021.1)\n",
      "Requirement already satisfied: requests<3.0.0,>=2.19.1 in /opt/conda/lib/python3.7/site-packages (from azureml-core~=1.34.0->azureml-sdk) (2.25.1)\n",
      "Requirement already satisfied: backports.tempfile in /opt/conda/lib/python3.7/site-packages (from azureml-core~=1.34.0->azureml-sdk) (1.0)\n",
      "Requirement already satisfied: contextlib2<22.0.0 in /opt/conda/lib/python3.7/site-packages (from azureml-core~=1.34.0->azureml-sdk) (21.6.0)\n",
      "Requirement already satisfied: azure-mgmt-keyvault<10.0.0,>=0.40.0 in /opt/conda/lib/python3.7/site-packages (from azureml-core~=1.34.0->azureml-sdk) (9.1.0)\n",
      "Requirement already satisfied: azure-graphrbac<1.0.0,>=0.40.0 in /opt/conda/lib/python3.7/site-packages (from azureml-core~=1.34.0->azureml-sdk) (0.61.1)\n",
      "Requirement already satisfied: docker<6.0.0 in /opt/conda/lib/python3.7/site-packages (from azureml-core~=1.34.0->azureml-sdk) (5.0.2)\n",
      "Requirement already satisfied: PyJWT<3.0.0 in /opt/conda/lib/python3.7/site-packages (from azureml-core~=1.34.0->azureml-sdk) (2.1.0)\n",
      "Requirement already satisfied: msrestazure<=0.6.4,>=0.4.33 in /opt/conda/lib/python3.7/site-packages (from azureml-core~=1.34.0->azureml-sdk) (0.6.4)\n",
      "Requirement already satisfied: azure-mgmt-resource<15.0.0,>=1.2.1 in /opt/conda/lib/python3.7/site-packages (from azureml-core~=1.34.0->azureml-sdk) (13.0.0)\n",
      "Requirement already satisfied: adal<=1.2.7,>=1.2.0 in /opt/conda/lib/python3.7/site-packages (from azureml-core~=1.34.0->azureml-sdk) (1.2.7)\n",
      "Requirement already satisfied: azure-mgmt-core<2.0.0,>=1.2.0 in /opt/conda/lib/python3.7/site-packages (from azure-mgmt-containerregistry>=2.0.0->azureml-core~=1.34.0->azureml-sdk) (1.3.0)\n",
      "Requirement already satisfied: azure-core<2.0.0,>=1.15.0 in /opt/conda/lib/python3.7/site-packages (from azure-mgmt-core<2.0.0,>=1.2.0->azure-mgmt-containerregistry>=2.0.0->azureml-core~=1.34.0->azureml-sdk) (1.16.0)\n",
      "Requirement already satisfied: six>=1.11.0 in /opt/conda/lib/python3.7/site-packages (from azure-core<2.0.0,>=1.15.0->azure-mgmt-core<2.0.0,>=1.2.0->azure-mgmt-containerregistry>=2.0.0->azureml-core~=1.34.0->azureml-sdk) (1.16.0)\n",
      "Requirement already satisfied: pyarrow<4.0.0,>=0.17.0 in /opt/conda/lib/python3.7/site-packages (from azureml-dataset-runtime[fuse]~=1.34.0->azureml-sdk) (2.0.0)\n",
      "Requirement already satisfied: azureml-dataprep<2.23.0a,>=2.22.0a in /opt/conda/lib/python3.7/site-packages (from azureml-dataset-runtime[fuse]~=1.34.0->azureml-sdk) (2.22.2)\n",
      "Requirement already satisfied: fusepy<4.0.0,>=3.0.1 in /opt/conda/lib/python3.7/site-packages (from azureml-dataset-runtime[fuse]~=1.34.0->azureml-sdk) (3.0.1)\n",
      "Requirement already satisfied: azure-identity<1.5.0,>=1.2.0 in /opt/conda/lib/python3.7/site-packages (from azureml-dataprep<2.23.0a,>=2.22.0a->azureml-dataset-runtime[fuse]~=1.34.0->azureml-sdk) (1.4.1)\n",
      "Requirement already satisfied: azureml-dataprep-native<39.0.0,>=38.0.0 in /opt/conda/lib/python3.7/site-packages (from azureml-dataprep<2.23.0a,>=2.22.0a->azureml-dataset-runtime[fuse]~=1.34.0->azureml-sdk) (38.0.0)\n",
      "Requirement already satisfied: dotnetcore2<3.0.0,>=2.1.14 in /opt/conda/lib/python3.7/site-packages (from azureml-dataprep<2.23.0a,>=2.22.0a->azureml-dataset-runtime[fuse]~=1.34.0->azureml-sdk) (2.1.21)\n",
      "Requirement already satisfied: azureml-dataprep-rslex~=1.20.0dev0 in /opt/conda/lib/python3.7/site-packages (from azureml-dataprep<2.23.0a,>=2.22.0a->azureml-dataset-runtime[fuse]~=1.34.0->azureml-sdk) (1.20.2)\n",
      "Requirement already satisfied: cloudpickle<2.0.0,>=1.1.0 in /opt/conda/lib/python3.7/site-packages (from azureml-dataprep<2.23.0a,>=2.22.0a->azureml-dataset-runtime[fuse]~=1.34.0->azureml-sdk) (1.6.0)\n",
      "Requirement already satisfied: msal<2.0.0,>=1.3.0 in /opt/conda/lib/python3.7/site-packages (from azure-identity<1.5.0,>=1.2.0->azureml-dataprep<2.23.0a,>=2.22.0a->azureml-dataset-runtime[fuse]~=1.34.0->azureml-sdk) (1.12.0)\n",
      "Requirement already satisfied: msal-extensions~=0.2.2 in /opt/conda/lib/python3.7/site-packages (from azure-identity<1.5.0,>=1.2.0->azureml-dataprep<2.23.0a,>=2.22.0a->azureml-dataset-runtime[fuse]~=1.34.0->azureml-sdk) (0.2.2)\n",
      "Requirement already satisfied: azureml-pipeline-steps~=1.34.0 in /opt/conda/lib/python3.7/site-packages (from azureml-pipeline~=1.34.0->azureml-sdk) (1.34.0)\n",
      "Requirement already satisfied: azureml-pipeline-core~=1.34.0 in /opt/conda/lib/python3.7/site-packages (from azureml-pipeline~=1.34.0->azureml-sdk) (1.34.0)\n",
      "Requirement already satisfied: azureml-automl-core~=1.34.0 in /opt/conda/lib/python3.7/site-packages (from azureml-train-automl-client~=1.34.0->azureml-sdk) (1.34.1)\n",
      "Requirement already satisfied: azureml-telemetry~=1.34.0 in /opt/conda/lib/python3.7/site-packages (from azureml-train-automl-client~=1.34.0->azureml-sdk) (1.34.0)\n",
      "Requirement already satisfied: applicationinsights in /opt/conda/lib/python3.7/site-packages (from azureml-telemetry~=1.34.0->azureml-train-automl-client~=1.34.0->azureml-sdk) (0.11.10)\n",
      "Requirement already satisfied: azureml-train-restclients-hyperdrive~=1.34.0 in /opt/conda/lib/python3.7/site-packages (from azureml-train-core~=1.34.0->azureml-sdk) (1.34.0)\n",
      "Requirement already satisfied: cffi>=1.12 in /opt/conda/lib/python3.7/site-packages (from cryptography!=1.9,!=2.0.*,!=2.1.*,!=2.2.*,<4.0.0->azureml-core~=1.34.0->azureml-sdk) (1.14.6)\n",
      "Requirement already satisfied: pycparser in /opt/conda/lib/python3.7/site-packages (from cffi>=1.12->cryptography!=1.9,!=2.0.*,!=2.1.*,!=2.2.*,<4.0.0->azureml-core~=1.34.0->azureml-sdk) (2.20)\n",
      "Requirement already satisfied: websocket-client>=0.32.0 in /opt/conda/lib/python3.7/site-packages (from docker<6.0.0->azureml-core~=1.34.0->azureml-sdk) (1.1.0)\n",
      "Requirement already satisfied: distro>=1.2.0 in /opt/conda/lib/python3.7/site-packages (from dotnetcore2<3.0.0,>=2.1.14->azureml-dataprep<2.23.0a,>=2.22.0a->azureml-dataset-runtime[fuse]~=1.34.0->azureml-sdk) (1.6.0)\n",
      "Requirement already satisfied: importlib-metadata in /opt/conda/lib/python3.7/site-packages (from jsonpickle<3.0.0->azureml-core~=1.34.0->azureml-sdk) (3.10.1)\n",
      "Requirement already satisfied: portalocker~=1.0 in /opt/conda/lib/python3.7/site-packages (from msal-extensions~=0.2.2->azure-identity<1.5.0,>=1.2.0->azureml-dataprep<2.23.0a,>=2.22.0a->azureml-dataset-runtime[fuse]~=1.34.0->azureml-sdk) (1.7.1)\n",
      "Requirement already satisfied: certifi>=2017.4.17 in /opt/conda/lib/python3.7/site-packages (from msrest<1.0.0,>=0.5.1->azureml-core~=1.34.0->azureml-sdk) (2021.5.30)\n",
      "Requirement already satisfied: requests-oauthlib>=0.5.0 in /opt/conda/lib/python3.7/site-packages (from msrest<1.0.0,>=0.5.1->azureml-core~=1.34.0->azureml-sdk) (1.3.0)\n",
      "Requirement already satisfied: isodate>=0.6.0 in /opt/conda/lib/python3.7/site-packages (from msrest<1.0.0,>=0.5.1->azureml-core~=1.34.0->azureml-sdk) (0.6.0)\n",
      "Requirement already satisfied: pyasn1>=0.1.1 in /opt/conda/lib/python3.7/site-packages (from ndg-httpsclient<=0.5.1->azureml-core~=1.34.0->azureml-sdk) (0.4.8)\n",
      "Requirement already satisfied: chardet<5,>=3.0.2 in /opt/conda/lib/python3.7/site-packages (from requests<3.0.0,>=2.19.1->azureml-core~=1.34.0->azureml-sdk) (4.0.0)\n",
      "Requirement already satisfied: idna<3,>=2.5 in /opt/conda/lib/python3.7/site-packages (from requests<3.0.0,>=2.19.1->azureml-core~=1.34.0->azureml-sdk) (2.10)\n",
      "Requirement already satisfied: oauthlib>=3.0.0 in /opt/conda/lib/python3.7/site-packages (from requests-oauthlib>=0.5.0->msrest<1.0.0,>=0.5.1->azureml-core~=1.34.0->azureml-sdk) (3.1.1)\n",
      "Requirement already satisfied: ruamel.yaml.clib>=0.1.2 in /opt/conda/lib/python3.7/site-packages (from ruamel.yaml<0.17.5,>=0.15.35->azureml-core~=1.34.0->azureml-sdk) (0.2.6)\n",
      "Requirement already satisfied: jeepney>=0.6 in /opt/conda/lib/python3.7/site-packages (from SecretStorage<4.0.0->azureml-core~=1.34.0->azureml-sdk) (0.7.0)\n",
      "Requirement already satisfied: pillow>=6.2.0 in /opt/conda/lib/python3.7/site-packages (from matplotlib) (8.3.1)\n",
      "Requirement already satisfied: pyparsing>=2.2.1 in /opt/conda/lib/python3.7/site-packages (from matplotlib) (2.4.7)\n",
      "Requirement already satisfied: cycler>=0.10 in /opt/conda/lib/python3.7/site-packages (from matplotlib) (0.10.0)\n",
      "Requirement already satisfied: kiwisolver>=1.0.1 in /opt/conda/lib/python3.7/site-packages (from matplotlib) (1.3.1)\n",
      "Requirement already satisfied: backports.weakref in /opt/conda/lib/python3.7/site-packages (from backports.tempfile->azureml-core~=1.34.0->azureml-sdk) (1.0.post1)\n",
      "Requirement already satisfied: typing-extensions>=3.6.4 in /opt/conda/lib/python3.7/site-packages (from importlib-metadata->jsonpickle<3.0.0->azureml-core~=1.34.0->azureml-sdk) (3.10.0.0)\n",
      "Requirement already satisfied: zipp>=0.5 in /opt/conda/lib/python3.7/site-packages (from importlib-metadata->jsonpickle<3.0.0->azureml-core~=1.34.0->azureml-sdk) (3.5.0)\n"
     ]
    }
   ],
   "source": [
    "!pip install azureml-sdk scikit-learn==0.22.1 pandas numpy matplotlib"
   ]
  },
  {
   "cell_type": "markdown",
   "metadata": {},
   "source": [
    "### Connect to workspace\n",
    "\n",
    "Download your Azure Workspace configuration file and upload it in this working directory - It will be used to remotely access your Azure Workspace from your Jupyter notebook instance\n",
    "\n",
    "Create a workspace object from the existing workspace. `Workspace.from_config()` reads the file **config.json** and loads the details into an object named `ws`."
   ]
  },
  {
   "cell_type": "code",
   "execution_count": 24,
   "metadata": {},
   "outputs": [],
   "source": [
    "from azureml.core import Workspace\n",
    "ws_other_environment = Workspace.from_config(path=\"./config.json\")"
   ]
  },
  {
   "cell_type": "code",
   "execution_count": 25,
   "metadata": {
    "gather": {
     "logged": 1633332195879
    },
    "tags": [
     "check version"
    ]
   },
   "outputs": [
    {
     "name": "stdout",
     "output_type": "stream",
     "text": [
      "Azure ML SDK Version:  1.34.0\n"
     ]
    }
   ],
   "source": [
    "%matplotlib inline\n",
    "import numpy as np\n",
    "import matplotlib.pyplot as plt\n",
    "\n",
    "import azureml.core\n",
    "from azureml.core import Workspace\n",
    "\n",
    "# check core SDK version number\n",
    "print(\"Azure ML SDK Version: \", azureml.core.VERSION)"
   ]
  },
  {
   "cell_type": "markdown",
   "metadata": {},
   "source": [
    "### Load workspace configuration from the config.json file in the current folder"
   ]
  },
  {
   "cell_type": "code",
   "execution_count": 26,
   "metadata": {
    "gather": {
     "logged": 1633332198974
    },
    "tags": [
     "load workspace"
    ]
   },
   "outputs": [
    {
     "name": "stdout",
     "output_type": "stream",
     "text": [
      "azureml-demo\teastus2\tdemo\n"
     ]
    }
   ],
   "source": [
    "ws = ws_other_environment\n",
    "print(ws.name, ws.location, ws.resource_group, sep='\\t')"
   ]
  },
  {
   "cell_type": "markdown",
   "metadata": {},
   "source": [
    "### Load data\n",
    "\n",
    "Load the test data from the **./data/mnist** directory"
   ]
  },
  {
   "cell_type": "code",
   "execution_count": 27,
   "metadata": {},
   "outputs": [
    {
     "name": "stdout",
     "output_type": "stream",
     "text": [
      "X_train Shape: (60000, 784)\n",
      "y_train Shape: (60000,)\n",
      "X_test Shape: (10000, 784)\n",
      "y_test Shape: (10000,)\n"
     ]
    }
   ],
   "source": [
    "import numpy as np\n",
    "import argparse\n",
    "import os\n",
    "from sklearn.linear_model import LogisticRegression\n",
    "import joblib\n",
    "\n",
    "from azureml.core import Run\n",
    "\n",
    "import gzip\n",
    "import numpy as np\n",
    "import struct\n",
    "\n",
    "\n",
    "# load compressed MNIST gz files and return numpy arrays\n",
    "def load_data(filename, label=False):\n",
    "    with gzip.open(filename) as gz:\n",
    "        struct.unpack('I', gz.read(4))\n",
    "        n_items = struct.unpack('>I', gz.read(4))\n",
    "        if not label:\n",
    "            n_rows = struct.unpack('>I', gz.read(4))[0]\n",
    "            n_cols = struct.unpack('>I', gz.read(4))[0]\n",
    "            res = np.frombuffer(gz.read(n_items[0] * n_rows * n_cols), dtype=np.uint8)\n",
    "            res = res.reshape(n_items[0], n_rows * n_cols)\n",
    "        else:\n",
    "            res = np.frombuffer(gz.read(n_items[0]), dtype=np.uint8)\n",
    "            res = res.reshape(n_items[0], 1)\n",
    "    return res\n",
    "\n",
    "\n",
    "data_folder = os.path.join(os.getcwd(), 'data/mnist')\n",
    "\n",
    "# load train and test set into numpy arrays\n",
    "# note we scale the pixel intensity values to 0-1 (by dividing it with 255.0) so the model can converge faster.\n",
    "X_train = load_data(\"{}/train-images-idx3-ubyte.gz\".format(data_folder), False) / 255.0\n",
    "X_test = load_data(\"{}/t10k-images-idx3-ubyte.gz\".format(data_folder), False) / 255.0\n",
    "y_train = load_data(\"{}/train-labels-idx1-ubyte.gz\".format(data_folder), True).reshape(-1)\n",
    "y_test = load_data(\"{}/t10k-labels-idx1-ubyte.gz\".format(data_folder), True).reshape(-1)\n",
    "print(\"X_train Shape: {}\\ny_train Shape: {}\\nX_test Shape: {}\\ny_test Shape: {}\".format(X_train.shape, y_train.shape, X_test.shape, y_test.shape))\n"
   ]
  },
  {
   "cell_type": "markdown",
   "metadata": {},
   "source": [
    "### Display some sample images\n",
    "\n",
    "Load the compressed files into `numpy` arrays. Then use `matplotlib` to plot 30 random images from the dataset with their labels above them. Note this step requires a `load_data` function that's included in an `utils.py` file. This file is included in the sample folder. Please make sure it is placed in the same folder as this notebook. The `load_data` function simply parses the compresse files into numpy arrays."
   ]
  },
  {
   "cell_type": "code",
   "execution_count": 28,
   "metadata": {
    "gather": {
     "logged": 1633332226929
    }
   },
   "outputs": [
    {
     "data": {
      "image/png": "[encoded data removed]",
      "text/plain": [
       "<Figure size 1152x432 with 30 Axes>"
      ]
     },
     "metadata": {
      "needs_background": "light"
     },
     "output_type": "display_data"
    }
   ],
   "source": [
    "# make sure utils.py is in the same directory as this code\n",
    "# now let's show some randomly chosen images from the traininng set.\n",
    "count = 0\n",
    "sample_size = 30\n",
    "plt.figure(figsize = (16, 6))\n",
    "for i in np.random.permutation(X_train.shape[0])[:sample_size]:\n",
    "    count = count + 1\n",
    "    plt.subplot(1, sample_size, count)\n",
    "    plt.axhline('')\n",
    "    plt.axvline('')\n",
    "    plt.text(x=10, y=-10, s=y_train[i], fontsize=18)\n",
    "    plt.imshow(X_train[i].reshape(28, 28), cmap=plt.cm.Greys)\n",
    "plt.show()"
   ]
  },
  {
   "cell_type": "markdown",
   "metadata": {},
   "source": [
    "## Train the Logistic Regression Model"
   ]
  },
  {
   "cell_type": "code",
   "execution_count": 29,
   "metadata": {},
   "outputs": [
    {
     "name": "stdout",
     "output_type": "stream",
     "text": [
      "Train a logistic regression model with regularization rate of 0.5\n",
      "Predict the test set\n",
      "Accuracy is 0.9193\n"
     ]
    }
   ],
   "source": [
    "print('Train a logistic regression model with regularization rate of', 0.5)\n",
    "clf = LogisticRegression(C=1.0/0.5, solver=\"liblinear\", multi_class=\"auto\", random_state=42)\n",
    "clf.fit(X_train, y_train)\n",
    "\n",
    "print('Predict the test set')\n",
    "y_hat = clf.predict(X_test)\n",
    "\n",
    "# calculate accuracy on the prediction\n",
    "acc = np.average(y_hat == y_test)\n",
    "print('Accuracy is', acc)"
   ]
  },
  {
   "cell_type": "markdown",
   "metadata": {},
   "source": [
    "### Package (pickle) and save the model"
   ]
  },
  {
   "cell_type": "code",
   "execution_count": 30,
   "metadata": {},
   "outputs": [
    {
     "data": {
      "text/plain": [
       "['./sklearn_mnist_model.pkl']"
      ]
     },
     "execution_count": 30,
     "metadata": {},
     "output_type": "execute_result"
    }
   ],
   "source": [
    "joblib.dump(value=clf, filename='./sklearn_mnist_model.pkl')"
   ]
  },
  {
   "cell_type": "code",
   "execution_count": null,
   "metadata": {},
   "outputs": [],
   "source": []
  }
 ],
 "metadata": {
  "kernelspec": {
   "display_name": "Python 3",
   "language": "python",
   "name": "python3"
  },
  "language_info": {
   "codemirror_mode": {
    "name": "ipython",
    "version": 3
   },
   "file_extension": ".py",
   "mimetype": "text/x-python",
   "name": "python",
   "nbconvert_exporter": "python",
   "pygments_lexer": "ipython3",
   "version": "3.7.4"
  }
 },
 "nbformat": 4,
 "nbformat_minor": 4
}
